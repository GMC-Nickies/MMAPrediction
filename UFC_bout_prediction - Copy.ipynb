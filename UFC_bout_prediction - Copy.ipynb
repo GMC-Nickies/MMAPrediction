{
 "cells": [
  {
   "cell_type": "markdown",
   "metadata": {},
   "source": [
    "<h1>UFC Bout Prediction<h1>"
   ]
  },
  {
   "cell_type": "code",
   "execution_count": 1,
   "metadata": {},
   "outputs": [],
   "source": [
    "import pandas as pd\n",
    "import tensorflow as tf\n",
    "import random\n",
    "from sklearn.model_selection import train_test_split\n",
    "from sklearn.feature_selection import RFE\n",
    "from sklearn.linear_model import LogisticRegression"
   ]
  },
  {
   "cell_type": "code",
   "execution_count": 2,
   "metadata": {},
   "outputs": [],
   "source": [
    "UFC_data = pd.read_csv('UFC_data.csv')\n",
    "UFC_data = UFC_data.drop(['Unnamed: 0'], axis = 1)\n",
    "cols_to_norm = ['Height', 'Weight', 'Reach', 'DOB', 'SLpm', 'SAcc',\n",
    "                'SApm', 'StrDef', 'TDAvg', 'TDAcc', 'TDDef', 'SubAvg', \n",
    "                'Height.1', 'Weight.1', 'Reach.1', 'DOB.1',\n",
    "                'SLpm.1', 'SAcc.1', 'SApm.1', 'StrDef.1', 'TDAvg.1', 'TDAcc.1',\n",
    "                'TDDef.1', 'SubAvg.1']\n",
    "UFC_data[cols_to_norm] = UFC_data[cols_to_norm].apply(lambda x: (x- x.min()) / (x.max() - x.min()))"
   ]
  },
  {
   "cell_type": "code",
   "execution_count": 3,
   "metadata": {},
   "outputs": [
    {
     "name": "stdout",
     "output_type": "stream",
     "text": [
      "0\n"
     ]
    }
   ],
   "source": [
    "randomize_order = random.randint(0,1)\n",
    "print(randomize_order)"
   ]
  },
  {
   "cell_type": "code",
   "execution_count": 4,
   "metadata": {},
   "outputs": [],
   "source": [
    "Height = tf.feature_column.numeric_column('Height')\n",
    "Weight = tf.feature_column.numeric_column('Weight')\n",
    "Reach = tf.feature_column.numeric_column('Reach')\n",
    "DOB = tf.feature_column.numeric_column('DOB')\n",
    "SLpm = tf.feature_column.numeric_column('SLpm')\n",
    "SAcc = tf.feature_column.numeric_column('SAcc')\n",
    "SApm = tf.feature_column.numeric_column('SApm')\n",
    "StrDef = tf.feature_column.numeric_column('StrDef')\n",
    "TDAvg = tf.feature_column.numeric_column('TDAvg')\n",
    "TDAcc = tf.feature_column.numeric_column('TDAcc')\n",
    "TDDef = tf.feature_column.numeric_column('TDDef')\n",
    "SubAvg = tf.feature_column.numeric_column('SubAvg')\n",
    "\n",
    "\n",
    "Height_1 = tf.feature_column.numeric_column('Height.1')\n",
    "Weight_1 = tf.feature_column.numeric_column('Weight.1')\n",
    "Reach_1 = tf.feature_column.numeric_column('Reach.1')\n",
    "DOB_1 = tf.feature_column.numeric_column('DOB.1')\n",
    "SLpm_1 = tf.feature_column.numeric_column('SLpm.1')\n",
    "SAcc_1 = tf.feature_column.numeric_column('SAcc.1')\n",
    "SApm_1 = tf.feature_column.numeric_column('SApm.1')\n",
    "StrDef_1 = tf.feature_column.numeric_column('StrDef.1')\n",
    "TDAvg_1 = tf.feature_column.numeric_column('TDAvg.1')\n",
    "TDAcc_1 = tf.feature_column.numeric_column('TDAcc.1')\n",
    "TDDef_1 = tf.feature_column.numeric_column('TDDef.1')\n",
    "SubAvg_1 = tf.feature_column.numeric_column('SubAvg.1')"
   ]
  },
  {
   "cell_type": "code",
   "execution_count": 5,
   "metadata": {},
   "outputs": [],
   "source": [
    "Stance = tf.feature_column.categorical_column_with_vocabulary_list('Stance',['Orthodox','Switch','Southpaw',\n",
    "                                                                             'Open Sta'])\n",
    "Stance_1 = tf.feature_column.categorical_column_with_vocabulary_list('Stance.1',['Orthodox','Switch','Southpaw',\n",
    "                                                                                 'Open Sta'])\n",
    "\n",
    "embedded_Stance = tf.feature_column.embedding_column(Stance, dimension=4)\n",
    "embedded_Stance_1 = tf.feature_column.embedding_column(Stance_1, dimension=4)"
   ]
  },
  {
   "cell_type": "code",
   "execution_count": 6,
   "metadata": {},
   "outputs": [
    {
     "data": {
      "text/plain": [
       "'\\nfeat_cols = [embedded_Stance, \\n             Height, \\n             Weight, \\n             Reach, \\n             DOB, \\n             SLpm, \\n             SAcc, \\n             SApm, \\n             StrDef, \\n             TDAvg, \\n             TDAcc, \\n             TDDef, \\n             SubAvg, \\n             embedded_Stance_1, \\n             Height_1, \\n             Weight_1, \\n             Reach_1, \\n             DOB_1, \\n             SLpm_1, \\n             SAcc_1, \\n             SApm_1, \\n             StrDef_1, \\n             TDAvg_1, \\n             TDAcc_1, \\n             TDDef_1, \\n             SubAvg_1\\n            ]\\n'"
      ]
     },
     "execution_count": 6,
     "metadata": {},
     "output_type": "execute_result"
    }
   ],
   "source": [
    "feat_cols = [\n",
    "             DOB, \n",
    "             SLpm, \n",
    "             SApm,  \n",
    "             TDDef, \n",
    "             DOB_1, \n",
    "             SLpm_1,\n",
    "             SApm_1,  \n",
    "             TDDef_1, \n",
    "            ]\n",
    "\"\"\"\n",
    "feat_cols = [embedded_Stance, \n",
    "             Height, \n",
    "             Weight, \n",
    "             Reach, \n",
    "             DOB, \n",
    "             SLpm, \n",
    "             SAcc, \n",
    "             SApm, \n",
    "             StrDef, \n",
    "             TDAvg, \n",
    "             TDAcc, \n",
    "             TDDef, \n",
    "             SubAvg, \n",
    "             embedded_Stance_1, \n",
    "             Height_1, \n",
    "             Weight_1, \n",
    "             Reach_1, \n",
    "             DOB_1, \n",
    "             SLpm_1, \n",
    "             SAcc_1, \n",
    "             SApm_1, \n",
    "             StrDef_1, \n",
    "             TDAvg_1, \n",
    "             TDAcc_1, \n",
    "             TDDef_1, \n",
    "             SubAvg_1\n",
    "            ]\n",
    "\"\"\""
   ]
  },
  {
   "cell_type": "code",
   "execution_count": 7,
   "metadata": {},
   "outputs": [],
   "source": [
    "x_data = UFC_data.drop('Win', axis=1)"
   ]
  },
  {
   "cell_type": "code",
   "execution_count": 8,
   "metadata": {},
   "outputs": [
    {
     "name": "stdout",
     "output_type": "stream",
     "text": [
      "                    Name    Height    Weight     Reach    Stance       DOB  \\\n",
      "0             Ciryl Gane  0.695652  0.866667  0.884615  Orthodox  0.729730   \n",
      "1       Robert Whittaker  0.521739  0.466667  0.576923  Orthodox  0.729730   \n",
      "2     Alessio Di Chirico  0.521739  0.466667  0.615385  Orthodox  0.702703   \n",
      "3            Khalid Taha  0.217391  0.133333  0.423077  Orthodox  0.783784   \n",
      "4       Nasrat Haqparast  0.434783  0.266667  0.538462  Southpaw  0.864865   \n",
      "...                  ...       ...       ...       ...       ...       ...   \n",
      "3394            Caol Uno  0.304348  0.266667  0.461538  Southpaw  0.324324   \n",
      "3395         Jeff Monson  0.391304  0.880000  0.615385  Orthodox  0.216216   \n",
      "3396       Chuck Liddell  0.608696  0.600000  0.692308  Orthodox  0.162162   \n",
      "3397     Wanderlei Silva  0.478261  0.600000  0.615385  Orthodox  0.351351   \n",
      "3398       Vitor Belfort  0.521739  0.466667  0.615385  Southpaw  0.378378   \n",
      "\n",
      "          SLpm      SAcc      SApm    StrDef  ...  Stance.1     DOB.1  \\\n",
      "0     0.273008  0.716981  0.201726  0.704225  ...  Southpaw  0.833333   \n",
      "1     0.249537  0.415094  0.314995  0.676056  ...  Southpaw  0.833333   \n",
      "2     0.178505  0.396226  0.306365  0.704225  ...  Southpaw  0.777778   \n",
      "3     0.140828  0.245283  0.390507  0.464789  ...  Orthodox  0.916667   \n",
      "4     0.294009  0.471698  0.463862  0.760563  ...  Orthodox  0.611111   \n",
      "...        ...       ...       ...       ...  ...       ...       ...   \n",
      "3394  0.092650  0.547170  0.161812  0.535211  ...  Southpaw  0.305556   \n",
      "3395  0.034589  0.188679  0.266451  0.661972  ...  Orthodox  0.166667   \n",
      "3396  0.158122  0.283019  0.249191  0.619718  ...  Orthodox  0.333333   \n",
      "3397  0.147004  0.377358  0.193096  0.676056  ...  Southpaw  0.388889   \n",
      "3398  0.072884  0.490566  0.262136  0.535211  ...  Orthodox  0.000000   \n",
      "\n",
      "        SLpm.1    SAcc.1    SApm.1  StrDef.1   TDAvg.1  TDAcc.1 TDDef.1  \\\n",
      "0     0.404996  0.675325  0.361789  0.592593  0.000000     0.00    0.50   \n",
      "1     0.388046  0.584416  0.353659  0.728395  0.284519     0.45    0.76   \n",
      "2     0.242640  0.545455  0.399390  0.679012  0.072524     0.33    0.83   \n",
      "3     0.452275  0.532468  0.528455  0.740741  0.139470     1.00    1.00   \n",
      "4     0.496878  0.662338  0.408537  0.851852  0.000000     0.00    0.89   \n",
      "...        ...       ...       ...       ...       ...      ...     ...   \n",
      "3394  0.189117  0.480519  0.318089  0.691358  0.030683     0.33    0.63   \n",
      "3395  0.264942  0.454545  0.275407  0.691358  0.061367     0.75    0.81   \n",
      "3396  0.106155  0.506494  0.202236  0.679012  0.255230     0.38    0.29   \n",
      "3397  0.141838  0.597403  0.287602  0.617284  0.142259     0.60    0.53   \n",
      "3398  0.254237  0.740260  0.155488  0.728395  0.387727     0.46    0.58   \n",
      "\n",
      "      SubAvg.1  \n",
      "0     0.000000  \n",
      "1     0.081081  \n",
      "2     0.000000  \n",
      "3     0.000000  \n",
      "4     0.000000  \n",
      "...        ...  \n",
      "3394  0.040541  \n",
      "3395  0.000000  \n",
      "3396  0.148649  \n",
      "3397  0.081081  \n",
      "3398  0.067568  \n",
      "\n",
      "[3399 rows x 28 columns]\n"
     ]
    }
   ],
   "source": [
    "print(x_data)"
   ]
  },
  {
   "cell_type": "code",
   "execution_count": 9,
   "metadata": {},
   "outputs": [],
   "source": [
    "labels = UFC_data['Win']"
   ]
  },
  {
   "cell_type": "code",
   "execution_count": 10,
   "metadata": {},
   "outputs": [],
   "source": [
    "X_train, X_test, y_train, y_test = train_test_split(x_data,labels,test_size=0.33, random_state=101)"
   ]
  },
  {
   "cell_type": "code",
   "execution_count": 11,
   "metadata": {
    "scrolled": true
   },
   "outputs": [
    {
     "name": "stdout",
     "output_type": "stream",
     "text": [
      "                 Name    Height    Weight     Reach    Stance       DOB  \\\n",
      "1212        Sam Alvey  0.608696  0.600000  0.653846  Southpaw  0.621622   \n",
      "1359     Stipe Miocic  0.695652  0.833333  0.846154  Orthodox  0.513514   \n",
      "1253   Taylor Lapilus  0.260870  0.133333  0.576923  Southpaw  0.783784   \n",
      "3045    Dong Hyun Kim  0.608696  0.366667  0.692308  Southpaw  0.486486   \n",
      "3341      Evan Tanner  0.521739  0.466667  0.615385  Orthodox  0.216216   \n",
      "...               ...       ...       ...       ...       ...       ...   \n",
      "599     Bobby Moffett  0.434783  0.200000  0.576923  Orthodox  0.729730   \n",
      "1599   Jerrod Sanders  0.347826  0.133333  0.538462  Orthodox  0.432432   \n",
      "1361      Cris Cyborg  0.347826  0.200000  0.384615  Orthodox  0.594595   \n",
      "1547   Sage Northcutt  0.521739  0.366667  0.500000  Orthodox  0.891892   \n",
      "863   Francis Ngannou  0.695652  0.900000  0.961538  Orthodox  0.621622   \n",
      "\n",
      "          SLpm      SAcc      SApm    StrDef  ...  Stance.1     DOB.1  \\\n",
      "1212  0.163064  0.452830  0.302050  0.605634  ...  Orthodox  0.750000   \n",
      "1359  0.280420  0.603774  0.354908  0.619718  ...  Orthodox  0.388889   \n",
      "1253  0.207536  0.471698  0.172600  0.690141  ...  Orthodox  0.555556   \n",
      "3045  0.105621  0.547170  0.160734  0.647887  ...  Orthodox  0.527778   \n",
      "3341  0.163064  0.735849  0.241640  0.619718  ...  Southpaw  0.305556   \n",
      "...        ...       ...       ...       ...  ...       ...       ...   \n",
      "599   0.185300  0.358491  0.296656  0.690141  ...  Orthodox  0.611111   \n",
      "1599  0.029030  0.830189  0.079827  0.478873  ...  Orthodox  0.638889   \n",
      "1361  0.424336  0.603774  0.199569  0.732394  ...  Orthodox  0.527778   \n",
      "1547  0.195800  0.603774  0.168285  0.647887  ...  Orthodox  0.500000   \n",
      "863   0.107474  0.320755  0.169364  0.507042  ...  Orthodox  0.472222   \n",
      "\n",
      "        SLpm.1    SAcc.1    SApm.1  StrDef.1   TDAvg.1  TDAcc.1 TDDef.1  \\\n",
      "1212  0.367529  0.558442  0.472561  0.580247  0.000000     0.00    0.50   \n",
      "1359  0.322034  0.662338  0.248984  0.691358  0.230126     0.30    0.31   \n",
      "1253  0.185549  0.480519  0.322154  0.716049  0.331939     0.22    0.50   \n",
      "3045  0.222123  0.532468  0.222561  0.716049  0.735007     0.59    0.59   \n",
      "3341  0.365745  0.571429  0.210366  0.765432  0.182706     0.66    0.63   \n",
      "...        ...       ...       ...       ...       ...      ...     ...   \n",
      "599   0.180196  0.519481  0.340447  0.592593  0.238494     0.34    0.33   \n",
      "1599  0.156111  0.519481  0.170732  0.654321  0.294282     0.45    0.52   \n",
      "1361  0.674398  0.519481  0.854675  0.629630  0.000000     0.00    0.62   \n",
      "1547  0.236396  0.545455  0.245935  0.790123  0.135286     0.22    0.41   \n",
      "863   0.315789  0.805195  0.218496  0.728395  0.193863     0.53    0.73   \n",
      "\n",
      "      SubAvg.1  \n",
      "1212  0.067568  \n",
      "1359  0.148649  \n",
      "1253  0.162162  \n",
      "3045  0.135135  \n",
      "3341  0.094595  \n",
      "...        ...  \n",
      "599   0.324324  \n",
      "1599  0.108108  \n",
      "1361  0.000000  \n",
      "1547  0.000000  \n",
      "863   0.121622  \n",
      "\n",
      "[2277 rows x 28 columns]\n",
      "                 Name    Height    Weight     Reach    Stance       DOB  \\\n",
      "2684    Mirko Cro Cop  0.608696  0.766667  0.576923  Southpaw  0.297297   \n",
      "3109      Chris Lytle  0.478261  0.366667  0.384615  Orthodox  0.297297   \n",
      "3177    Diego Sanchez  0.434783  0.366667  0.538462  Southpaw  0.486486   \n",
      "2857      John Salter  0.565217  0.466667  0.615385  Southpaw  0.594595   \n",
      "1029   Omari Akhmedov  0.521739  0.466667  0.576923  Orthodox  0.648649   \n",
      "...               ...       ...       ...       ...       ...       ...   \n",
      "1545  Adriano Martins  0.434783  0.266667  0.538462  Southpaw  0.513514   \n",
      "2975     Eric Schafer  0.652174  0.466667  0.653846  Orthodox  0.378378   \n",
      "2670      Pablo Garza  0.565217  0.200000  0.576923  Orthodox  0.540541   \n",
      "331         Nate Diaz  0.521739  0.366667  0.692308  Southpaw  0.594595   \n",
      "2737      Diego Nunes  0.260870  0.200000  0.346154  Orthodox  0.513514   \n",
      "\n",
      "          SLpm      SAcc      SApm    StrDef  ...  Stance.1     DOB.1  \\\n",
      "2684  0.105003  0.566038  0.160734  0.718310  ...  Orthodox  0.361111   \n",
      "3109  0.206918  0.471698  0.283711  0.647887  ...  Orthodox  0.388889   \n",
      "3177  0.144534  0.339623  0.270766  0.633803  ...  Orthodox  0.416667   \n",
      "2857  0.078443  0.226415  0.138080  0.788732  ...  Orthodox  0.500000   \n",
      "1029  0.159358  0.264151  0.255663  0.647887  ...  Orthodox  0.611111   \n",
      "...        ...       ...       ...       ...  ...       ...       ...   \n",
      "1545  0.085855  0.339623  0.187702  0.746479  ...  Orthodox  0.777778   \n",
      "2975  0.091414  0.264151  0.321467  0.619718  ...  Orthodox  0.555556   \n",
      "2670  0.182829  0.452830  0.248112  0.535211  ...  Southpaw  0.722222   \n",
      "331   0.260037  0.471698  0.364617  0.577465  ...  Orthodox  0.666667   \n",
      "2737  0.142681  0.433962  0.236246  0.647887  ...  Southpaw  0.361111   \n",
      "\n",
      "        SLpm.1    SAcc.1    SApm.1  StrDef.1   TDAvg.1  TDAcc.1 TDDef.1  \\\n",
      "2684  0.194469  0.467532  0.486789  0.567901  0.158996     0.27    0.65   \n",
      "3109  0.159679  0.467532  0.230691  0.777778  0.343096     0.48    0.64   \n",
      "3177  0.232828  0.649351  0.167683  0.666667  0.502092     0.51    0.56   \n",
      "2857  0.181088  0.467532  0.310976  0.604938  0.232915     0.54    0.47   \n",
      "1029  0.409456  0.597403  0.426829  0.728395  0.079498     0.33    0.53   \n",
      "...        ...       ...       ...       ...       ...      ...     ...   \n",
      "1545  0.187333  0.727273  0.077236  0.888889  0.474198     0.68    0.93   \n",
      "2975  0.251561  0.558442  0.141260  0.876543  0.470014     0.44    0.80   \n",
      "2670  0.491525  0.636364  0.403455  0.691358  0.216179     0.37    0.61   \n",
      "331   0.264942  0.597403  0.353659  0.654321  0.096234     0.54    0.58   \n",
      "2737  0.214987  0.519481  0.188008  0.777778  0.309623     0.33    0.60   \n",
      "\n",
      "      SubAvg.1  \n",
      "2684  0.013514  \n",
      "3109  0.054054  \n",
      "3177  0.108108  \n",
      "2857  0.243243  \n",
      "1029  0.000000  \n",
      "...        ...  \n",
      "1545  0.108108  \n",
      "2975  0.054054  \n",
      "2670  0.162162  \n",
      "331   0.162162  \n",
      "2737  0.175676  \n",
      "\n",
      "[1122 rows x 28 columns]\n"
     ]
    }
   ],
   "source": [
    "print(X_train)\n",
    "print(X_test)"
   ]
  },
  {
   "cell_type": "code",
   "execution_count": 12,
   "metadata": {},
   "outputs": [
    {
     "name": "stdout",
     "output_type": "stream",
     "text": [
      "Num Features: 8\n",
      "Selected Features: [False False False  True  True False  True False False False  True False\n",
      " False False False  True False False  True  True False False False  True]\n",
      "Feature Ranking: [ 3  2 11  1  1  5  1  9 10 14  1  6 16 17  7  1  4 13  1  1  8 15 12  1]\n"
     ]
    }
   ],
   "source": [
    "model = LogisticRegression(solver='lbfgs')\n",
    "X1_train = X_train.drop('Name', axis=1)\n",
    "X1_train = X1_train.drop('Name.1', axis=1)\n",
    "X1_train = X1_train.drop('Stance', axis=1)\n",
    "X1_train = X1_train.drop('Stance.1', axis=1)\n",
    "rfe = RFE(model, n_features_to_select=8)\n",
    "fit = rfe.fit(X1_train, y_train)\n",
    "print(\"Num Features: %d\" % fit.n_features_)\n",
    "print(\"Selected Features: %s\" % fit.support_)\n",
    "print(\"Feature Ranking: %s\" % fit.ranking_)"
   ]
  },
  {
   "cell_type": "code",
   "execution_count": 13,
   "metadata": {},
   "outputs": [
    {
     "name": "stdout",
     "output_type": "stream",
     "text": [
      "WARNING:tensorflow:From C:\\Users\\Drago\\anaconda3\\lib\\site-packages\\tensorflow\\python\\util\\lazy_loader.py:59: The name tf.estimator.inputs is deprecated. Please use tf.compat.v1.estimator.inputs instead.\n",
      "\n",
      "WARNING:tensorflow:From C:\\Users\\Drago\\AppData\\Local\\Temp\\ipykernel_2368\\49557043.py:1: The name tf.estimator.inputs.pandas_input_fn is deprecated. Please use tf.compat.v1.estimator.inputs.pandas_input_fn instead.\n",
      "\n"
     ]
    }
   ],
   "source": [
    "input_func = tf.compat.v1.estimator.inputs.pandas_input_fn(x=X_train,y=y_train,batch_size=10,\n",
    "                                                           num_epochs=1000,shuffle=True)"
   ]
  },
  {
   "cell_type": "code",
   "execution_count": 14,
   "metadata": {},
   "outputs": [
    {
     "name": "stdout",
     "output_type": "stream",
     "text": [
      "INFO:tensorflow:Using default config.\n",
      "WARNING:tensorflow:Using temporary folder as model directory: C:\\Users\\Drago\\AppData\\Local\\Temp\\tmpo4j37xlu\n",
      "INFO:tensorflow:Using config: {'_model_dir': 'C:\\\\Users\\\\Drago\\\\AppData\\\\Local\\\\Temp\\\\tmpo4j37xlu', '_tf_random_seed': None, '_save_summary_steps': 100, '_save_checkpoints_steps': None, '_save_checkpoints_secs': 600, '_session_config': allow_soft_placement: true\n",
      "graph_options {\n",
      "  rewrite_options {\n",
      "    meta_optimizer_iterations: ONE\n",
      "  }\n",
      "}\n",
      ", '_keep_checkpoint_max': 5, '_keep_checkpoint_every_n_hours': 10000, '_log_step_count_steps': 100, '_train_distribute': None, '_device_fn': None, '_protocol': None, '_eval_distribute': None, '_experimental_distribute': None, '_experimental_max_worker_delay_secs': None, '_session_creation_timeout_secs': 7200, '_checkpoint_save_graph_def': True, '_service': None, '_cluster_spec': ClusterSpec({}), '_task_type': 'worker', '_task_id': 0, '_global_id_in_cluster': 0, '_master': '', '_evaluation_master': '', '_is_chief': True, '_num_ps_replicas': 0, '_num_worker_replicas': 1}\n"
     ]
    }
   ],
   "source": [
    "dnn_model = tf.compat.v1.estimator.DNNClassifier(hidden_units=[30,30,30],feature_columns=feat_cols,n_classes=2)"
   ]
  },
  {
   "cell_type": "code",
   "execution_count": 15,
   "metadata": {
    "scrolled": true
   },
   "outputs": [
    {
     "name": "stdout",
     "output_type": "stream",
     "text": [
      "WARNING:tensorflow:From C:\\Users\\Drago\\anaconda3\\lib\\site-packages\\tensorflow\\python\\training\\training_util.py:396: Variable.initialized_value (from tensorflow.python.ops.variables) is deprecated and will be removed in a future version.\n",
      "Instructions for updating:\n",
      "Use Variable.read_value. Variables in 2.X are initialized automatically both in eager and graph (inside tf.defun) contexts.\n",
      "WARNING:tensorflow:From C:\\Users\\Drago\\anaconda3\\lib\\site-packages\\tensorflow_estimator\\python\\estimator\\inputs\\queues\\feeding_queue_runner.py:60: QueueRunner.__init__ (from tensorflow.python.training.queue_runner_impl) is deprecated and will be removed in a future version.\n",
      "Instructions for updating:\n",
      "To construct input pipelines, use the `tf.data` module.\n",
      "WARNING:tensorflow:From C:\\Users\\Drago\\anaconda3\\lib\\site-packages\\tensorflow_estimator\\python\\estimator\\inputs\\queues\\feeding_functions.py:491: add_queue_runner (from tensorflow.python.training.queue_runner_impl) is deprecated and will be removed in a future version.\n",
      "Instructions for updating:\n",
      "To construct input pipelines, use the `tf.data` module.\n",
      "INFO:tensorflow:Calling model_fn.\n",
      "WARNING:tensorflow:From C:\\Users\\Drago\\anaconda3\\lib\\site-packages\\tensorflow\\python\\training\\adagrad.py:138: calling Constant.__init__ (from tensorflow.python.ops.init_ops) with dtype is deprecated and will be removed in a future version.\n",
      "Instructions for updating:\n",
      "Call initializer instance with the dtype argument instead of passing it to the constructor\n",
      "INFO:tensorflow:Done calling model_fn.\n",
      "INFO:tensorflow:Create CheckpointSaverHook.\n",
      "INFO:tensorflow:Graph was finalized.\n",
      "INFO:tensorflow:Running local_init_op.\n",
      "INFO:tensorflow:Done running local_init_op.\n",
      "WARNING:tensorflow:From C:\\Users\\Drago\\anaconda3\\lib\\site-packages\\tensorflow\\python\\training\\monitored_session.py:914: start_queue_runners (from tensorflow.python.training.queue_runner_impl) is deprecated and will be removed in a future version.\n",
      "Instructions for updating:\n",
      "To construct input pipelines, use the `tf.data` module.\n",
      "INFO:tensorflow:Calling checkpoint listeners before saving checkpoint 0...\n",
      "INFO:tensorflow:Saving checkpoints for 0 into C:\\Users\\Drago\\AppData\\Local\\Temp\\tmpo4j37xlu\\model.ckpt.\n",
      "INFO:tensorflow:C:\\Users\\Drago\\AppData\\Local\\Temp\\tmpo4j37xlu\\model.ckpt-0.data-00000-of-00001\n",
      "INFO:tensorflow:0\n",
      "INFO:tensorflow:C:\\Users\\Drago\\AppData\\Local\\Temp\\tmpo4j37xlu\\model.ckpt-0.index\n",
      "INFO:tensorflow:0\n",
      "INFO:tensorflow:C:\\Users\\Drago\\AppData\\Local\\Temp\\tmpo4j37xlu\\model.ckpt-0.meta\n",
      "INFO:tensorflow:200\n",
      "INFO:tensorflow:Calling checkpoint listeners after saving checkpoint 0...\n",
      "INFO:tensorflow:loss = 6.824152, step = 0\n",
      "INFO:tensorflow:global_step/sec: 467.645\n",
      "INFO:tensorflow:loss = 6.6176047, step = 100 (0.215 sec)\n",
      "INFO:tensorflow:global_step/sec: 577.905\n",
      "INFO:tensorflow:loss = 4.2380886, step = 200 (0.172 sec)\n",
      "INFO:tensorflow:global_step/sec: 591.583\n",
      "INFO:tensorflow:loss = 4.1604176, step = 300 (0.170 sec)\n",
      "INFO:tensorflow:global_step/sec: 571.302\n",
      "INFO:tensorflow:loss = 4.101824, step = 400 (0.174 sec)\n",
      "INFO:tensorflow:global_step/sec: 591.541\n",
      "INFO:tensorflow:loss = 7.0281105, step = 500 (0.170 sec)\n",
      "INFO:tensorflow:global_step/sec: 588.383\n",
      "INFO:tensorflow:loss = 3.7752855, step = 600 (0.170 sec)\n",
      "INFO:tensorflow:global_step/sec: 596.662\n",
      "INFO:tensorflow:loss = 3.7399673, step = 700 (0.166 sec)\n",
      "INFO:tensorflow:global_step/sec: 590.998\n",
      "INFO:tensorflow:loss = 7.1902776, step = 800 (0.171 sec)\n",
      "INFO:tensorflow:global_step/sec: 581.788\n",
      "INFO:tensorflow:loss = 5.1800413, step = 900 (0.171 sec)\n",
      "INFO:tensorflow:Calling checkpoint listeners before saving checkpoint 1000...\n",
      "INFO:tensorflow:Saving checkpoints for 1000 into C:\\Users\\Drago\\AppData\\Local\\Temp\\tmpo4j37xlu\\model.ckpt.\n",
      "INFO:tensorflow:C:\\Users\\Drago\\AppData\\Local\\Temp\\tmpo4j37xlu\\model.ckpt-1000.data-00000-of-00001\n",
      "INFO:tensorflow:0\n",
      "INFO:tensorflow:C:\\Users\\Drago\\AppData\\Local\\Temp\\tmpo4j37xlu\\model.ckpt-1000.index\n",
      "INFO:tensorflow:0\n",
      "INFO:tensorflow:C:\\Users\\Drago\\AppData\\Local\\Temp\\tmpo4j37xlu\\model.ckpt-1000.meta\n",
      "INFO:tensorflow:200\n",
      "INFO:tensorflow:Calling checkpoint listeners after saving checkpoint 1000...\n",
      "INFO:tensorflow:Loss for final step: 6.1020184.\n"
     ]
    },
    {
     "data": {
      "text/plain": [
       "<tensorflow_estimator.python.estimator.canned.dnn.DNNClassifier at 0x218baa30790>"
      ]
     },
     "execution_count": 15,
     "metadata": {},
     "output_type": "execute_result"
    }
   ],
   "source": [
    "dnn_model.train(input_fn=input_func,steps=1000)"
   ]
  },
  {
   "cell_type": "code",
   "execution_count": 16,
   "metadata": {},
   "outputs": [],
   "source": [
    "eval_input_func = tf.compat.v1.estimator.inputs.pandas_input_fn(\n",
    "      x=X_test,\n",
    "      y=y_test,\n",
    "      batch_size=10,\n",
    "      num_epochs=1,\n",
    "      shuffle=False)"
   ]
  },
  {
   "cell_type": "code",
   "execution_count": 17,
   "metadata": {
    "scrolled": true
   },
   "outputs": [
    {
     "name": "stdout",
     "output_type": "stream",
     "text": [
      "INFO:tensorflow:Calling model_fn.\n",
      "WARNING:tensorflow:From C:\\Users\\Drago\\anaconda3\\lib\\site-packages\\tensorflow_estimator\\python\\estimator\\canned\\head.py:635: auc (from tensorflow.python.ops.metrics_impl) is deprecated and will be removed in a future version.\n",
      "Instructions for updating:\n",
      "The value of AUC returned by this may race with the update so this is deprecated. Please use tf.keras.metrics.AUC instead.\n",
      "WARNING:tensorflow:Trapezoidal rule is known to produce incorrect PR-AUCs; please switch to \"careful_interpolation\" instead.\n",
      "WARNING:tensorflow:Trapezoidal rule is known to produce incorrect PR-AUCs; please switch to \"careful_interpolation\" instead.\n",
      "INFO:tensorflow:Done calling model_fn.\n",
      "INFO:tensorflow:Starting evaluation at 2022-09-06T12:34:07\n",
      "INFO:tensorflow:Graph was finalized.\n",
      "INFO:tensorflow:Restoring parameters from C:\\Users\\Drago\\AppData\\Local\\Temp\\tmpo4j37xlu\\model.ckpt-1000\n",
      "INFO:tensorflow:Running local_init_op.\n",
      "INFO:tensorflow:Done running local_init_op.\n",
      "INFO:tensorflow:Inference Time : 0.49513s\n",
      "INFO:tensorflow:Finished evaluation at 2022-09-06-12:34:07\n",
      "INFO:tensorflow:Saving dict for global step 1000: accuracy = 0.78074867, accuracy_baseline = 0.5187166, auc = 0.8589188, auc_precision_recall = 0.83775276, average_loss = 0.4822965, global_step = 1000, label/mean = 0.5187166, loss = 4.78882, precision = 0.72888285, prediction/mean = 0.5945537, recall = 0.919244\n",
      "INFO:tensorflow:Saving 'checkpoint_path' summary for global step 1000: C:\\Users\\Drago\\AppData\\Local\\Temp\\tmpo4j37xlu\\model.ckpt-1000\n"
     ]
    }
   ],
   "source": [
    "results = dnn_model.evaluate(eval_input_func)"
   ]
  },
  {
   "cell_type": "code",
   "execution_count": 18,
   "metadata": {},
   "outputs": [
    {
     "data": {
      "text/plain": [
       "{'accuracy': 0.78074867,\n",
       " 'accuracy_baseline': 0.5187166,\n",
       " 'auc': 0.8589188,\n",
       " 'auc_precision_recall': 0.83775276,\n",
       " 'average_loss': 0.4822965,\n",
       " 'label/mean': 0.5187166,\n",
       " 'loss': 4.78882,\n",
       " 'precision': 0.72888285,\n",
       " 'prediction/mean': 0.5945537,\n",
       " 'recall': 0.919244,\n",
       " 'global_step': 1000}"
      ]
     },
     "execution_count": 18,
     "metadata": {},
     "output_type": "execute_result"
    }
   ],
   "source": [
    "results"
   ]
  },
  {
   "cell_type": "code",
   "execution_count": 27,
   "metadata": {},
   "outputs": [],
   "source": [
    "predict_data = pd.read_csv('UFC_predictions.csv')\n",
    "predict_data = predict_data.drop(['Unnamed: 0'], axis = 1)\n",
    "cols_to_norm = ['Height', 'Weight', 'Reach', 'DOB', 'SLpm', 'SAcc',\n",
    "                'SApm', 'StrDef', 'TDAvg', 'TDAcc', 'TDDef', 'SubAvg',\n",
    "                'Height.1', 'Weight.1', 'Reach.1', 'DOB.1',\n",
    "                'SLpm.1', 'SAcc.1', 'SApm.1', 'StrDef.1', 'TDAvg.1', 'TDAcc.1',\n",
    "                'TDDef.1', 'SubAvg.1',]\n",
    "predict_data[cols_to_norm] = predict_data[cols_to_norm].apply(lambda x: (x- x.min()) / (x.max() - x.min()))"
   ]
  },
  {
   "cell_type": "code",
   "execution_count": 28,
   "metadata": {},
   "outputs": [],
   "source": [
    "predict_data = predict_data[0:11]\n",
    "labels = predict_data['Win']\n",
    "predict_data = predict_data.drop('Win', axis=1)"
   ]
  },
  {
   "cell_type": "code",
   "execution_count": 29,
   "metadata": {
    "scrolled": true
   },
   "outputs": [
    {
     "name": "stdout",
     "output_type": "stream",
     "text": [
      "               Name    Height    Weight     Reach    Stance       DOB  \\\n",
      "0   Khamzat Chimaev  0.608696  0.366667  0.653846  Orthodox  0.837838   \n",
      "1      Li Jingliang  0.521739  0.366667  0.500000  Orthodox  0.675676   \n",
      "2     Kevin Holland  0.652174  0.366667  0.884615  Orthodox  0.783784   \n",
      "3      Irene Aldana  0.391304  0.133333  0.384615  Orthodox  0.675676   \n",
      "4      Ion Cutelaba  0.565217  0.600000  0.653846  Southpaw  0.810811   \n",
      "5     Hakeem Dawodu  0.347826  0.200000  0.576923  Orthodox  0.756757   \n",
      "6     Jamie Pickett  0.608696  0.466667  0.846154  Orthodox  0.675676   \n",
      "7      Jake Collier  0.652174  0.766667  0.769231  Orthodox  0.675676   \n",
      "8      Norma Dumont  0.304348  0.200000  0.346154  Orthodox  0.729730   \n",
      "9    Chad Anheliger  0.260870  0.133333  0.230769  Orthodox  0.621622   \n",
      "10     Darian Weeks  0.478261  0.366667  0.538462  Orthodox  0.810811   \n",
      "\n",
      "        SLpm      SAcc      SApm    StrDef  ...  Stance.1     DOB.1    SLpm.1  \\\n",
      "0   0.462014  0.735849  0.420712  0.408451  ...  Southpaw  0.611111  0.402319   \n",
      "1   0.247684  0.415094  0.360302  0.647887  ...  Orthodox  0.583333  0.456735   \n",
      "2   0.211859  0.660377  0.213592  0.605634  ...  Southpaw  0.638889  0.719001   \n",
      "3   0.321186  0.358491  0.597627  0.676056  ...  Orthodox  0.777778  0.330062   \n",
      "4   0.271773  0.415094  0.322546  0.507042  ...  Orthodox  0.805556  0.307761   \n",
      "5   0.307597  0.566038  0.250270  0.661972  ...  Southpaw  0.722222  0.561106   \n",
      "6   0.153181  0.566038  0.385113  0.478873  ...  Orthodox  0.694444  0.396967   \n",
      "7   0.324892  0.433962  0.458468  0.549296  ...  Orthodox  0.638889  0.321142   \n",
      "8   0.201359  0.566038  0.193096  0.774648  ...  Orthodox  0.555556  0.303301   \n",
      "9   0.221124  0.641509  0.316073  0.535211  ...  Orthodox  0.777778  0.255129   \n",
      "10  0.300185  0.660377  0.611650  0.521127  ...  Orthodox  0.805556  0.385370   \n",
      "\n",
      "      SAcc.1    SApm.1  StrDef.1   TDAvg.1  TDAcc.1 TDDef.1  SubAvg.1  \n",
      "0   0.584416  0.379065  0.641975  0.153417     0.30    0.41  0.175676  \n",
      "1   0.584416  0.387195  0.716049  0.057183     0.42    0.66  0.148649  \n",
      "2   0.649351  0.546748  0.703704  0.117155     0.55    0.76  0.027027  \n",
      "3   0.584416  0.260163  0.567901  0.271967     0.33    0.64  0.054054  \n",
      "4   0.753247  0.282520  0.518519  0.032078     1.00    0.62  0.094595  \n",
      "5   0.623377  0.661585  0.592593  0.235704     0.52    0.61  0.108108  \n",
      "6   0.480519  0.612805  0.456790  0.000000     0.00    0.33  0.000000  \n",
      "7   0.584416  0.568089  0.456790  0.000000     0.00    0.00  0.000000  \n",
      "8   0.363636  0.576220  0.543210  0.000000     0.00    1.00  0.135135  \n",
      "9   0.428571  0.515244  0.716049  0.241283     0.33    0.72  0.000000  \n",
      "10  0.636364  0.476626  0.740741  0.393305     0.40    0.00  0.189189  \n",
      "\n",
      "[11 rows x 28 columns]\n"
     ]
    }
   ],
   "source": [
    "print(predict_data)"
   ]
  },
  {
   "cell_type": "code",
   "execution_count": 30,
   "metadata": {},
   "outputs": [],
   "source": [
    "pred_input_func = tf.compat.v1.estimator.inputs.pandas_input_fn(x=predict_data,num_epochs=1,shuffle=True)"
   ]
  },
  {
   "cell_type": "code",
   "execution_count": 31,
   "metadata": {},
   "outputs": [],
   "source": [
    "predictions = dnn_model.predict(pred_input_func)"
   ]
  },
  {
   "cell_type": "code",
   "execution_count": 32,
   "metadata": {},
   "outputs": [
    {
     "name": "stdout",
     "output_type": "stream",
     "text": [
      "INFO:tensorflow:Calling model_fn.\n",
      "INFO:tensorflow:Done calling model_fn.\n",
      "INFO:tensorflow:Graph was finalized.\n",
      "INFO:tensorflow:Restoring parameters from C:\\Users\\Drago\\AppData\\Local\\Temp\\tmpo4j37xlu\\model.ckpt-1000\n",
      "INFO:tensorflow:Running local_init_op.\n",
      "INFO:tensorflow:Done running local_init_op.\n",
      "Prediction:\n",
      "[1, 1, 1, 1, 1, 1, 1, 1, 1, 1, 1]\n",
      "Confidence:\n",
      "[0.1296122, 0.13418332, 0.05481942, 0.076642945, 0.1857881, 0.060316667, 0.10850668, 0.11826395, 0.13667569, 0.11858369, 0.1354199]\n"
     ]
    }
   ],
   "source": [
    "output = (list(predictions))\n",
    "prediction = [p[\"class_ids\"][0] for p in output]\n",
    "confidence = [p[\"probabilities\"][0] for p in output]\n",
    "print(\"Prediction:\")\n",
    "print(prediction)\n",
    "print(\"Confidence:\")\n",
    "print(confidence)\n",
    "    "
   ]
  },
  {
   "cell_type": "code",
   "execution_count": 33,
   "metadata": {
    "scrolled": true
   },
   "outputs": [
    {
     "name": "stdout",
     "output_type": "stream",
     "text": [
      "Khamzat Chimaev projected to win with 12.96% confidence.\n",
      "Li Jingliang projected to win with 13.42% confidence.\n",
      "Kevin Holland projected to win with 5.48% confidence.\n",
      "Irene Aldana projected to win with 7.66% confidence.\n",
      "Ion Cutelaba projected to win with 18.58% confidence.\n",
      "Hakeem Dawodu projected to win with 6.03% confidence.\n",
      "Jamie Pickett projected to win with 10.85% confidence.\n",
      "Jake Collier projected to win with 11.83% confidence.\n",
      "Norma Dumont projected to win with 13.67% confidence.\n",
      "Chad Anheliger projected to win with 11.86% confidence.\n",
      "Darian Weeks projected to win with 13.54% confidence.\n"
     ]
    }
   ],
   "source": [
    "counter = 0\n",
    "for x in prediction:\n",
    "    if x == 1:\n",
    "        print(\"\" + predict_data['Name'][counter] + \" projected to win with \" + str(round((confidence[counter] * 100), 2)) + \"% confidence.\")\n",
    "    else:\n",
    "        print(\"\" + predict_data['Name.1'][counter] + \" projected to win with \" + str(round((confidence[counter] * 100), 2)) + \"% confidence.\")\n",
    "    counter += 1"
   ]
  },
  {
   "cell_type": "code",
   "execution_count": 34,
   "metadata": {},
   "outputs": [
    {
     "name": "stdout",
     "output_type": "stream",
     "text": [
      "INFO:tensorflow:Calling model_fn.\n",
      "WARNING:tensorflow:Trapezoidal rule is known to produce incorrect PR-AUCs; please switch to \"careful_interpolation\" instead.\n",
      "WARNING:tensorflow:Trapezoidal rule is known to produce incorrect PR-AUCs; please switch to \"careful_interpolation\" instead.\n",
      "INFO:tensorflow:Done calling model_fn.\n",
      "INFO:tensorflow:Starting evaluation at 2022-09-06T12:37:03\n",
      "INFO:tensorflow:Graph was finalized.\n",
      "INFO:tensorflow:Restoring parameters from C:\\Users\\Drago\\AppData\\Local\\Temp\\tmpo4j37xlu\\model.ckpt-1000\n",
      "INFO:tensorflow:Running local_init_op.\n",
      "INFO:tensorflow:Done running local_init_op.\n",
      "INFO:tensorflow:Inference Time : 0.32059s\n",
      "INFO:tensorflow:Finished evaluation at 2022-09-06-12:37:03\n",
      "INFO:tensorflow:Saving dict for global step 1000: accuracy = 0.90909094, accuracy_baseline = 0.90909094, auc = 0.7499993, auc_precision_recall = 0.9743433, average_loss = 0.29091355, global_step = 1000, label/mean = 0.90909094, loss = 1.6000245, precision = 0.90909094, prediction/mean = 0.8855625, recall = 1.0\n",
      "INFO:tensorflow:Saving 'checkpoint_path' summary for global step 1000: C:\\Users\\Drago\\AppData\\Local\\Temp\\tmpo4j37xlu\\model.ckpt-1000\n"
     ]
    },
    {
     "data": {
      "text/plain": [
       "{'accuracy': 0.90909094,\n",
       " 'accuracy_baseline': 0.90909094,\n",
       " 'auc': 0.7499993,\n",
       " 'auc_precision_recall': 0.9743433,\n",
       " 'average_loss': 0.29091355,\n",
       " 'label/mean': 0.90909094,\n",
       " 'loss': 1.6000245,\n",
       " 'precision': 0.90909094,\n",
       " 'prediction/mean': 0.8855625,\n",
       " 'recall': 1.0,\n",
       " 'global_step': 1000}"
      ]
     },
     "execution_count": 34,
     "metadata": {},
     "output_type": "execute_result"
    }
   ],
   "source": [
    "eval_input_func = tf.compat.v1.estimator.inputs.pandas_input_fn(\n",
    "      x=predict_data,\n",
    "      y=labels,\n",
    "      batch_size=10,\n",
    "      num_epochs=1,\n",
    "      shuffle=False)\n",
    "results = dnn_model.evaluate(eval_input_func)\n",
    "results"
   ]
  },
  {
   "cell_type": "code",
   "execution_count": null,
   "metadata": {},
   "outputs": [],
   "source": []
  }
 ],
 "metadata": {
  "kernelspec": {
   "display_name": "Python 3 (ipykernel)",
   "language": "python",
   "name": "python3"
  },
  "language_info": {
   "codemirror_mode": {
    "name": "ipython",
    "version": 3
   },
   "file_extension": ".py",
   "mimetype": "text/x-python",
   "name": "python",
   "nbconvert_exporter": "python",
   "pygments_lexer": "ipython3",
   "version": "3.9.12"
  }
 },
 "nbformat": 4,
 "nbformat_minor": 2
}
